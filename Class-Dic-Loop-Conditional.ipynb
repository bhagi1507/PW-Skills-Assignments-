{
 "cells": [
  {
   "cell_type": "code",
   "execution_count": 1,
   "id": "d72331c8-b73d-4e08-8681-25431dd58a37",
   "metadata": {},
   "outputs": [],
   "source": [
    "d = {}"
   ]
  },
  {
   "cell_type": "code",
   "execution_count": 2,
   "id": "3f6c4eb0-00e9-488b-8580-5e4b25c39cac",
   "metadata": {},
   "outputs": [
    {
     "data": {
      "text/plain": [
       "dict"
      ]
     },
     "execution_count": 2,
     "metadata": {},
     "output_type": "execute_result"
    }
   ],
   "source": [
    "type(d)"
   ]
  },
  {
   "cell_type": "code",
   "execution_count": 3,
   "id": "f8979bb8-bbb4-4747-9ab5-94ac5ce53a45",
   "metadata": {},
   "outputs": [],
   "source": [
    "d1 = {'key' : \"Bhagyesh\"}"
   ]
  },
  {
   "cell_type": "code",
   "execution_count": 4,
   "id": "e9325634-d014-4bf9-9883-a05fd3a04393",
   "metadata": {},
   "outputs": [
    {
     "data": {
      "text/plain": [
       "{'key': 'Bhagyesh'}"
      ]
     },
     "execution_count": 4,
     "metadata": {},
     "output_type": "execute_result"
    }
   ],
   "source": [
    "d1"
   ]
  },
  {
   "cell_type": "code",
   "execution_count": 5,
   "id": "869a267d-ccf4-423c-beb1-f1dc2f8865a6",
   "metadata": {},
   "outputs": [],
   "source": [
    "d2 = {'name' : \"Bhagyesh\", 'email' : \"Bhagyeshchaudhari15@gmail.com\", \"number\" : 6581152}"
   ]
  },
  {
   "cell_type": "code",
   "execution_count": 6,
   "id": "038bae13-a97c-44fe-9842-2a1acd66f128",
   "metadata": {},
   "outputs": [
    {
     "data": {
      "text/plain": [
       "{'name': 'Bhagyesh',\n",
       " 'email': 'Bhagyeshchaudhari15@gmail.com',\n",
       " 'number': 6581152}"
      ]
     },
     "execution_count": 6,
     "metadata": {},
     "output_type": "execute_result"
    }
   ],
   "source": [
    "d2"
   ]
  },
  {
   "cell_type": "code",
   "execution_count": 11,
   "id": "1227ed40-8a19-4a05-8c43-02653e58704a",
   "metadata": {},
   "outputs": [],
   "source": [
    "d3 = { 234: \"Bhag\", '_we' : \"Chaudhari\", True: 25552}"
   ]
  },
  {
   "cell_type": "code",
   "execution_count": 12,
   "id": "35cba4cb-3bc5-4ad0-b88a-a058a5f169fd",
   "metadata": {},
   "outputs": [
    {
     "data": {
      "text/plain": [
       "{234: 'Bhag', '_we': 'Chaudhari', True: 25552}"
      ]
     },
     "execution_count": 12,
     "metadata": {},
     "output_type": "execute_result"
    }
   ],
   "source": [
    "d3"
   ]
  },
  {
   "cell_type": "code",
   "execution_count": 13,
   "id": "6c66afac-657b-4999-8c3c-b04b831405c2",
   "metadata": {},
   "outputs": [
    {
     "data": {
      "text/plain": [
       "'Bhag'"
      ]
     },
     "execution_count": 13,
     "metadata": {},
     "output_type": "execute_result"
    }
   ],
   "source": [
    "d3[234]"
   ]
  },
  {
   "cell_type": "code",
   "execution_count": 15,
   "id": "e1a04955-efb4-438d-8008-c8882998c31a",
   "metadata": {},
   "outputs": [
    {
     "data": {
      "text/plain": [
       "25552"
      ]
     },
     "execution_count": 15,
     "metadata": {},
     "output_type": "execute_result"
    }
   ],
   "source": [
    "d3[True]"
   ]
  },
  {
   "cell_type": "code",
   "execution_count": 16,
   "id": "b8e3c2d9-9a5b-4cbf-a616-3ee588897410",
   "metadata": {},
   "outputs": [
    {
     "data": {
      "text/plain": [
       "25552"
      ]
     },
     "execution_count": 16,
     "metadata": {},
     "output_type": "execute_result"
    }
   ],
   "source": [
    "d3[1]"
   ]
  },
  {
   "cell_type": "code",
   "execution_count": 21,
   "id": "fadafec0-d53f-4bd6-bec1-5f0ce0960bd5",
   "metadata": {},
   "outputs": [],
   "source": [
    " d4 = {'name' : \"Bhagy\",'mail_id' : \"SS@gmail.com\", \"name\" : \"Bhagyesh\"}"
   ]
  },
  {
   "cell_type": "code",
   "execution_count": 22,
   "id": "d7359115-227f-47a5-ba22-81bfffb34da3",
   "metadata": {},
   "outputs": [
    {
     "data": {
      "text/plain": [
       "{'name': 'Bhagyesh', 'mail_id': 'SS@gmail.com'}"
      ]
     },
     "execution_count": 22,
     "metadata": {},
     "output_type": "execute_result"
    }
   ],
   "source": [
    "d4"
   ]
  },
  {
   "cell_type": "code",
   "execution_count": 23,
   "id": "cfb04af6-18bd-4908-9095-1c441a3f3819",
   "metadata": {},
   "outputs": [
    {
     "data": {
      "text/plain": [
       "'Bhagyesh'"
      ]
     },
     "execution_count": 23,
     "metadata": {},
     "output_type": "execute_result"
    }
   ],
   "source": [
    "d4['name']"
   ]
  },
  {
   "cell_type": "code",
   "execution_count": 24,
   "id": "31dbb6a4-5de1-4006-b4b4-eaa4a245ae50",
   "metadata": {},
   "outputs": [],
   "source": [
    "d5 = { 'company' : \"PWskills\", 'course' :[\"Web dev\",\"data science\", \"java\"] }"
   ]
  },
  {
   "cell_type": "code",
   "execution_count": 25,
   "id": "6d98c2f6-0d1a-4407-b3e8-dc6932337dd7",
   "metadata": {},
   "outputs": [
    {
     "data": {
      "text/plain": [
       "{'company': 'PWskills', 'course': ['Web dev', 'data science', 'java']}"
      ]
     },
     "execution_count": 25,
     "metadata": {},
     "output_type": "execute_result"
    }
   ],
   "source": [
    "d5"
   ]
  },
  {
   "cell_type": "code",
   "execution_count": 27,
   "id": "22ae9747-9a29-470d-b71c-09d51fdb610f",
   "metadata": {},
   "outputs": [
    {
     "data": {
      "text/plain": [
       "['Web dev', 'data science', 'java']"
      ]
     },
     "execution_count": 27,
     "metadata": {},
     "output_type": "execute_result"
    }
   ],
   "source": [
    "d5['course']"
   ]
  },
  {
   "cell_type": "code",
   "execution_count": 35,
   "id": "4defdb93-3663-4dfb-9d27-d60ee9f15e10",
   "metadata": {},
   "outputs": [],
   "source": [
    "d6 = {'number' : [2,31,25,51],\"Assignments\" : (1,2,3,45,6,7,8,9), \"launch_date\": {28,12,14}, \"class_timing\" :{\"web_dev\" : 8, \"Data science\" : 7}}"
   ]
  },
  {
   "cell_type": "code",
   "execution_count": 36,
   "id": "ea416164-413e-4303-8fad-6de36ffcac2a",
   "metadata": {},
   "outputs": [
    {
     "data": {
      "text/plain": [
       "{'number': [2, 31, 25, 51],\n",
       " 'Assignments': (1, 2, 3, 45, 6, 7, 8, 9),\n",
       " 'launch_date': {12, 14, 28},\n",
       " 'class_timing': {'web_dev': 8, 'Data science': 7}}"
      ]
     },
     "execution_count": 36,
     "metadata": {},
     "output_type": "execute_result"
    }
   ],
   "source": [
    "d6"
   ]
  },
  {
   "cell_type": "code",
   "execution_count": 40,
   "id": "bd550b4c-8750-4336-bed9-e51cdc156357",
   "metadata": {},
   "outputs": [
    {
     "data": {
      "text/plain": [
       "7"
      ]
     },
     "execution_count": 40,
     "metadata": {},
     "output_type": "execute_result"
    }
   ],
   "source": [
    "d6['class_timing']['Data science']"
   ]
  },
  {
   "cell_type": "code",
   "execution_count": 41,
   "id": "52254626-caa3-40a3-bf9e-219712303e50",
   "metadata": {},
   "outputs": [
    {
     "data": {
      "text/plain": [
       "{'number': [2, 31, 25, 51],\n",
       " 'Assignments': (1, 2, 3, 45, 6, 7, 8, 9),\n",
       " 'launch_date': {12, 14, 28},\n",
       " 'class_timing': {'web_dev': 8, 'Data science': 7}}"
      ]
     },
     "execution_count": 41,
     "metadata": {},
     "output_type": "execute_result"
    }
   ],
   "source": [
    "d6"
   ]
  },
  {
   "cell_type": "code",
   "execution_count": 46,
   "id": "5c3dd5f7-1791-4474-b69d-bdb95f008a70",
   "metadata": {},
   "outputs": [
    {
     "name": "stdout",
     "output_type": "stream",
     "text": [
      "{'number': [2, 31, 25, 51], 'Assignments': (1, 2, 3, 45, 6, 7, 8, 9), 'launch_date': {28, 12, 14}, 'class_timing': {'web_dev': 8, 'Data science': 7}, 'mentor': ['Krish Sir', 'Sudhanshu', 'anurag', 'hayder']}\n"
     ]
    }
   ],
   "source": [
    "d6['mentor']= [\"Krish Sir\", \"Sudhanshu\", \"anurag\", \"hayder\"]\n",
    "print(d6)"
   ]
  },
  {
   "cell_type": "code",
   "execution_count": 50,
   "id": "fc7a2339-abb6-4b7c-ae0a-2d87bfcd3267",
   "metadata": {},
   "outputs": [
    {
     "data": {
      "text/plain": [
       "{'Assignments': (1, 2, 3, 45, 6, 7, 8, 9),\n",
       " 'launch_date': {12, 14, 28},\n",
       " 'class_timing': {'web_dev': 8, 'Data science': 7},\n",
       " 'mentor': ['Krish Sir', 'Sudhanshu', 'anurag', 'hayder']}"
      ]
     },
     "execution_count": 50,
     "metadata": {},
     "output_type": "execute_result"
    }
   ],
   "source": [
    "d6"
   ]
  },
  {
   "cell_type": "code",
   "execution_count": 52,
   "id": "f86be599-c22d-456d-9729-b11959999bc0",
   "metadata": {},
   "outputs": [
    {
     "data": {
      "text/plain": [
       "['Assignments', 'launch_date', 'class_timing', 'mentor']"
      ]
     },
     "execution_count": 52,
     "metadata": {},
     "output_type": "execute_result"
    }
   ],
   "source": [
    "list(d6.keys())"
   ]
  },
  {
   "cell_type": "code",
   "execution_count": 54,
   "id": "256c6779-235b-4deb-bcda-9354af01a18f",
   "metadata": {},
   "outputs": [
    {
     "data": {
      "text/plain": [
       "[(1, 2, 3, 45, 6, 7, 8, 9),\n",
       " {12, 14, 28},\n",
       " {'web_dev': 8, 'Data science': 7},\n",
       " ['Krish Sir', 'Sudhanshu', 'anurag', 'hayder']]"
      ]
     },
     "execution_count": 54,
     "metadata": {},
     "output_type": "execute_result"
    }
   ],
   "source": [
    "list(d6.values())"
   ]
  },
  {
   "cell_type": "code",
   "execution_count": 56,
   "id": "71f3a398-beb9-4d32-b1ea-305b71d341de",
   "metadata": {},
   "outputs": [
    {
     "data": {
      "text/plain": [
       "[('Assignments', (1, 2, 3, 45, 6, 7, 8, 9)),\n",
       " ('launch_date', {12, 14, 28}),\n",
       " ('class_timing', {'web_dev': 8, 'Data science': 7}),\n",
       " ('mentor', ['Krish Sir', 'Sudhanshu', 'anurag', 'hayder'])]"
      ]
     },
     "execution_count": 56,
     "metadata": {},
     "output_type": "execute_result"
    }
   ],
   "source": [
    "list(d6.items())"
   ]
  },
  {
   "cell_type": "code",
   "execution_count": 58,
   "id": "0becbbc8-ad1f-4aac-89e0-6ef6bc91a2a0",
   "metadata": {},
   "outputs": [
    {
     "data": {
      "text/plain": [
       "(1, 2, 3, 45, 6, 7, 8, 9)"
      ]
     },
     "execution_count": 58,
     "metadata": {},
     "output_type": "execute_result"
    }
   ],
   "source": [
    "d6.pop('Assignments')"
   ]
  },
  {
   "cell_type": "code",
   "execution_count": 59,
   "id": "8064de2c-ec12-4c49-80dc-12dd197c83a9",
   "metadata": {},
   "outputs": [
    {
     "data": {
      "text/plain": [
       "{'launch_date': {12, 14, 28},\n",
       " 'class_timing': {'web_dev': 8, 'Data science': 7},\n",
       " 'mentor': ['Krish Sir', 'Sudhanshu', 'anurag', 'hayder']}"
      ]
     },
     "execution_count": 59,
     "metadata": {},
     "output_type": "execute_result"
    }
   ],
   "source": [
    "d6"
   ]
  },
  {
   "cell_type": "code",
   "execution_count": 60,
   "id": "22460158-0530-42f1-ae8d-c43ab8928e04",
   "metadata": {},
   "outputs": [],
   "source": [
    "#dictionary is a mutanle"
   ]
  },
  {
   "cell_type": "code",
   "execution_count": 16,
   "id": "9fc6a619-eaae-464a-a605-e1fbd89f3c6e",
   "metadata": {},
   "outputs": [
    {
     "name": "stdin",
     "output_type": "stream",
     "text": [
      "enter your marks : 415\n"
     ]
    },
    {
     "name": "stdout",
     "output_type": "stream",
     "text": [
      " you'll be a part of A0 Batch\n"
     ]
    }
   ],
   "source": [
    "marks = int(input(\"enter your marks :\"))\n",
    "if marks >= 80 :\n",
    "    print(\" you'll be a part of A0 Batch\")\n",
    "elif marks >= 60 and marks <80 :\n",
    "    print(\"you'll be a part of A1 Batch\" )\n",
    "elif marks >= 40 and marks <60 :\n",
    "     print(\"You'll be a part of A2 batch\")\n",
    "else : \n",
    "     print(\"you'll be a part of A3 Batch\")\n",
    "                "
   ]
  },
  {
   "cell_type": "code",
   "execution_count": 9,
   "id": "a8dfb1e3-6bc4-47cf-a811-d156e1090f5f",
   "metadata": {},
   "outputs": [
    {
     "data": {
      "text/plain": [
       "False"
      ]
     },
     "execution_count": 9,
     "metadata": {},
     "output_type": "execute_result"
    }
   ],
   "source": [
    "10 >= 80"
   ]
  },
  {
   "cell_type": "code",
   "execution_count": 13,
   "id": "3cbbf504-0bf2-41f0-a175-a62aa9b4ed06",
   "metadata": {},
   "outputs": [
    {
     "name": "stdin",
     "output_type": "stream",
     "text": [
      "enter your marks  45\n"
     ]
    }
   ],
   "source": [
    "marks = int(input(\"enter your marks \"))"
   ]
  },
  {
   "cell_type": "code",
   "execution_count": 14,
   "id": "06d48750-713a-4b04-b3bd-407eab536076",
   "metadata": {},
   "outputs": [
    {
     "data": {
      "text/plain": [
       "int"
      ]
     },
     "execution_count": 14,
     "metadata": {},
     "output_type": "execute_result"
    }
   ],
   "source": [
    "type(marks)"
   ]
  },
  {
   "cell_type": "code",
   "execution_count": 31,
   "id": "007bf68a-b928-4412-8fa9-5d7525333a91",
   "metadata": {},
   "outputs": [
    {
     "name": "stdin",
     "output_type": "stream",
     "text": [
      "Enter Price 2135\n"
     ]
    },
    {
     "name": "stdout",
     "output_type": "stream",
     "text": [
      "i will not purchase\n"
     ]
    }
   ],
   "source": [
    "price = int(input(\"Enter Price\"))\n",
    "if price > 1000 :\n",
    "    print (\"i will not purchase\")\n",
    "    if price > 5999 :\n",
    "        print(\"this is too much\")\n",
    "    elif price <2000 :\n",
    "        print(\"its ok\")\n",
    "elif price < 1000 :\n",
    "    print(\"i will purchase\")\n",
    "else :\n",
    "    print(\"i will buy\")"
   ]
  },
  {
   "cell_type": "code",
   "execution_count": 2,
   "id": "59a2a644-2ddd-4dc7-8838-8dbf27c6d8fe",
   "metadata": {},
   "outputs": [],
   "source": [
    "l = [1,2,3,4,5,6,7,8]"
   ]
  },
  {
   "cell_type": "code",
   "execution_count": 37,
   "id": "b866f1ad-6506-4f61-b9d4-f759ed43bbe2",
   "metadata": {},
   "outputs": [
    {
     "data": {
      "text/plain": [
       "2"
      ]
     },
     "execution_count": 37,
     "metadata": {},
     "output_type": "execute_result"
    }
   ],
   "source": [
    "l[0]+1"
   ]
  },
  {
   "cell_type": "code",
   "execution_count": 38,
   "id": "eb92dc30-2ea5-415e-b3c3-71fa4baaf4b0",
   "metadata": {},
   "outputs": [],
   "source": [
    "l1= []"
   ]
  },
  {
   "cell_type": "code",
   "execution_count": 39,
   "id": "6d92ea48-bf88-4d2d-8c93-296c81671664",
   "metadata": {},
   "outputs": [],
   "source": [
    "l1.append(l[0]+1)"
   ]
  },
  {
   "cell_type": "code",
   "execution_count": 40,
   "id": "2203c1e5-930f-4d26-a24d-e120cc34cc45",
   "metadata": {},
   "outputs": [
    {
     "data": {
      "text/plain": [
       "[2]"
      ]
     },
     "execution_count": 40,
     "metadata": {},
     "output_type": "execute_result"
    }
   ],
   "source": [
    "l1"
   ]
  },
  {
   "cell_type": "code",
   "execution_count": 9,
   "id": "fdb59837-633c-4a90-b6b9-0e4b20dc098d",
   "metadata": {},
   "outputs": [
    {
     "name": "stdout",
     "output_type": "stream",
     "text": [
      "2\n",
      "3\n",
      "4\n",
      "5\n",
      "6\n",
      "7\n",
      "8\n",
      "9\n"
     ]
    },
    {
     "data": {
      "text/plain": [
       "[2, 3, 4, 5, 6, 7, 8, 9]"
      ]
     },
     "execution_count": 9,
     "metadata": {},
     "output_type": "execute_result"
    }
   ],
   "source": [
    "l1 = []\n",
    "for i in l:\n",
    "    print(i+1)\n",
    "    l1.append(i+1)\n",
    "l1   "
   ]
  },
  {
   "cell_type": "code",
   "execution_count": 14,
   "id": "aa03ca12-f2d6-4a60-8bc0-838d77eb736d",
   "metadata": {},
   "outputs": [],
   "source": [
    "l =  [\"bhagyesh\", \"chaudhari\", \"Pwskills\", \"course\"]\n"
   ]
  },
  {
   "cell_type": "code",
   "execution_count": 16,
   "id": "65ffa168-b42a-45c2-a863-7d6f80ec9af6",
   "metadata": {},
   "outputs": [
    {
     "name": "stdout",
     "output_type": "stream",
     "text": [
      "bhagyesh\n",
      "chaudhari\n",
      "Pwskills\n",
      "course\n"
     ]
    }
   ],
   "source": [
    "l1 = []\n",
    "for i in l :\n",
    "    print(i)\n",
    "    l1.append(i.upper())"
   ]
  },
  {
   "cell_type": "code",
   "execution_count": 17,
   "id": "a3e48da2-78f4-4d0f-a7cb-04a07367c062",
   "metadata": {},
   "outputs": [
    {
     "data": {
      "text/plain": [
       "['BHAGYESH', 'CHAUDHARI', 'PWSKILLS', 'COURSE']"
      ]
     },
     "execution_count": 17,
     "metadata": {},
     "output_type": "execute_result"
    }
   ],
   "source": [
    "l1"
   ]
  },
  {
   "cell_type": "code",
   "execution_count": 18,
   "id": "e355767b-4d5c-4e7c-a13f-d8e7c09ffa89",
   "metadata": {},
   "outputs": [],
   "source": [
    "l = [1,2,3,4,4,\"Bhagy\", \"Chaudhari\", 324,34.456,\"abc\"]"
   ]
  },
  {
   "cell_type": "code",
   "execution_count": 22,
   "id": "f18ea1b7-3455-4292-b713-e7c10595d1af",
   "metadata": {},
   "outputs": [
    {
     "name": "stdout",
     "output_type": "stream",
     "text": [
      "[1, 2, 3, 4, 4, 324, 34.456]\n",
      "['Bhagy', 'Chaudhari', 'abc']\n"
     ]
    }
   ],
   "source": [
    "l1_num = []\n",
    "l2_str = []\n",
    "for i in l :\n",
    "    if type(i) == int or type(i) == float :\n",
    "        l1_num.append(i)\n",
    "    else :\n",
    "        l2_str.append(i)\n",
    "print(l1_num)\n",
    "print(l2_str)\n",
    "    "
   ]
  },
  {
   "cell_type": "code",
   "execution_count": null,
   "id": "c94151c2-285f-4b4c-a496-89cd4bcb292c",
   "metadata": {},
   "outputs": [],
   "source": []
  }
 ],
 "metadata": {
  "kernelspec": {
   "display_name": "Python 3 (ipykernel)",
   "language": "python",
   "name": "python3"
  },
  "language_info": {
   "codemirror_mode": {
    "name": "ipython",
    "version": 3
   },
   "file_extension": ".py",
   "mimetype": "text/x-python",
   "name": "python",
   "nbconvert_exporter": "python",
   "pygments_lexer": "ipython3",
   "version": "3.10.8"
  }
 },
 "nbformat": 4,
 "nbformat_minor": 5
}
