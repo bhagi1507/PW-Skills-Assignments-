{
 "cells": [
  {
   "cell_type": "code",
   "execution_count": 49,
   "id": "9474ea22-8e62-4606-9e7b-7d8e8abb6da9",
   "metadata": {},
   "outputs": [],
   "source": [
    "l =[1,235,545,\"Bhagi\" , True , 4+4j , 232.43]"
   ]
  },
  {
   "cell_type": "code",
   "execution_count": 9,
   "id": "a94d0a57-0589-48b7-9cb8-cd0ff4e83ccc",
   "metadata": {},
   "outputs": [
    {
     "data": {
      "text/plain": [
       "list"
      ]
     },
     "execution_count": 9,
     "metadata": {},
     "output_type": "execute_result"
    }
   ],
   "source": [
    "type(l)"
   ]
  },
  {
   "cell_type": "code",
   "execution_count": 13,
   "id": "c9f9f088-a6ab-4d06-88f8-bb895675ecc5",
   "metadata": {},
   "outputs": [
    {
     "data": {
      "text/plain": [
       "1"
      ]
     },
     "execution_count": 13,
     "metadata": {},
     "output_type": "execute_result"
    }
   ],
   "source": [
    "l[0]"
   ]
  },
  {
   "cell_type": "code",
   "execution_count": 14,
   "id": "271ce53c-fb7d-4dec-a2f0-09d4db698a22",
   "metadata": {},
   "outputs": [
    {
     "data": {
      "text/plain": [
       "'Bhagi'"
      ]
     },
     "execution_count": 14,
     "metadata": {},
     "output_type": "execute_result"
    }
   ],
   "source": [
    "l[3]"
   ]
  },
  {
   "cell_type": "code",
   "execution_count": 15,
   "id": "28aa62fd-ce37-4db1-a5e1-6045b2528612",
   "metadata": {},
   "outputs": [
    {
     "ename": "IndexError",
     "evalue": "list index out of range",
     "output_type": "error",
     "traceback": [
      "\u001b[0;31m---------------------------------------------------------------------------\u001b[0m",
      "\u001b[0;31mIndexError\u001b[0m                                Traceback (most recent call last)",
      "Cell \u001b[0;32mIn[15], line 1\u001b[0m\n\u001b[0;32m----> 1\u001b[0m \u001b[43ml\u001b[49m\u001b[43m[\u001b[49m\u001b[38;5;241;43m90\u001b[39;49m\u001b[43m]\u001b[49m\n",
      "\u001b[0;31mIndexError\u001b[0m: list index out of range"
     ]
    }
   ],
   "source": [
    "l[90]"
   ]
  },
  {
   "cell_type": "code",
   "execution_count": 3,
   "id": "1243e62e-c2ab-40a7-85b5-bf909cbef910",
   "metadata": {},
   "outputs": [
    {
     "data": {
      "text/plain": [
       "[1, 235, 545, 'Bhagi', True, (4+4j), 232.43]"
      ]
     },
     "execution_count": 3,
     "metadata": {},
     "output_type": "execute_result"
    }
   ],
   "source": [
    "l"
   ]
  },
  {
   "cell_type": "code",
   "execution_count": 5,
   "id": "296a7336-f6d9-42dc-9320-724af992fced",
   "metadata": {},
   "outputs": [
    {
     "data": {
      "text/plain": [
       "[1, 235, 545]"
      ]
     },
     "execution_count": 5,
     "metadata": {},
     "output_type": "execute_result"
    }
   ],
   "source": [
    "l[0:3]"
   ]
  },
  {
   "cell_type": "code",
   "execution_count": 6,
   "id": "8a1ca57a-dec3-4ada-b72e-dc6cda19d673",
   "metadata": {},
   "outputs": [
    {
     "data": {
      "text/plain": [
       "232.43"
      ]
     },
     "execution_count": 6,
     "metadata": {},
     "output_type": "execute_result"
    }
   ],
   "source": [
    "l[-1]"
   ]
  },
  {
   "cell_type": "code",
   "execution_count": 7,
   "id": "a05d20e2-d353-40c4-b066-316e8bdec18f",
   "metadata": {},
   "outputs": [
    {
     "data": {
      "text/plain": [
       "[1, 235, 545, 'Bhagi', True, (4+4j)]"
      ]
     },
     "execution_count": 7,
     "metadata": {},
     "output_type": "execute_result"
    }
   ],
   "source": [
    "l[0:-1]"
   ]
  },
  {
   "cell_type": "code",
   "execution_count": 8,
   "id": "196ec070-b679-47b5-afe1-1dea8affcbdb",
   "metadata": {},
   "outputs": [
    {
     "data": {
      "text/plain": [
       "[232.43, (4+4j), True, 'Bhagi', 545, 235, 1]"
      ]
     },
     "execution_count": 8,
     "metadata": {},
     "output_type": "execute_result"
    }
   ],
   "source": [
    "l[::-1]"
   ]
  },
  {
   "cell_type": "code",
   "execution_count": 12,
   "id": "87e9c0ad-573e-41fb-8f15-5498a7317557",
   "metadata": {},
   "outputs": [
    {
     "data": {
      "text/plain": [
       "[1, 545, True, 232.43]"
      ]
     },
     "execution_count": 12,
     "metadata": {},
     "output_type": "execute_result"
    }
   ],
   "source": [
    "l[::2]"
   ]
  },
  {
   "cell_type": "code",
   "execution_count": 17,
   "id": "1d521ade-416d-42d6-9780-26587d4b6263",
   "metadata": {},
   "outputs": [
    {
     "data": {
      "text/plain": [
       "[1, 235, 545, 'Bhagi', True, (4+4j), 232.43]"
      ]
     },
     "execution_count": 17,
     "metadata": {},
     "output_type": "execute_result"
    }
   ],
   "source": [
    "l"
   ]
  },
  {
   "cell_type": "code",
   "execution_count": 18,
   "id": "6512a6a5-1600-401c-9c63-c61af6cbd91b",
   "metadata": {},
   "outputs": [],
   "source": [
    "s = \"PwSkilss\""
   ]
  },
  {
   "cell_type": "code",
   "execution_count": 19,
   "id": "a3c5b97a-dfbe-400d-9184-523f9f3d4fc1",
   "metadata": {},
   "outputs": [
    {
     "data": {
      "text/plain": [
       "'PwSkilss'"
      ]
     },
     "execution_count": 19,
     "metadata": {},
     "output_type": "execute_result"
    }
   ],
   "source": [
    "s"
   ]
  },
  {
   "cell_type": "code",
   "execution_count": 20,
   "id": "43b6489c-a3d2-4862-859d-cf1232e3e681",
   "metadata": {},
   "outputs": [
    {
     "ename": "TypeError",
     "evalue": "can only concatenate list (not \"str\") to list",
     "output_type": "error",
     "traceback": [
      "\u001b[0;31m---------------------------------------------------------------------------\u001b[0m",
      "\u001b[0;31mTypeError\u001b[0m                                 Traceback (most recent call last)",
      "Cell \u001b[0;32mIn[20], line 1\u001b[0m\n\u001b[0;32m----> 1\u001b[0m \u001b[43ml\u001b[49m\u001b[38;5;241;43m+\u001b[39;49m\u001b[43ms\u001b[49m \n",
      "\u001b[0;31mTypeError\u001b[0m: can only concatenate list (not \"str\") to list"
     ]
    }
   ],
   "source": [
    "l+s "
   ]
  },
  {
   "cell_type": "code",
   "execution_count": 21,
   "id": "3ffc2ced-299e-4a0e-b558-7b59017ca8de",
   "metadata": {},
   "outputs": [
    {
     "data": {
      "text/plain": [
       "['P', 'w', 'S', 'k', 'i', 'l', 's', 's']"
      ]
     },
     "execution_count": 21,
     "metadata": {},
     "output_type": "execute_result"
    }
   ],
   "source": [
    "list(s)"
   ]
  },
  {
   "cell_type": "code",
   "execution_count": 24,
   "id": "bd99deb3-7927-45a3-95ba-9f07ca8069c0",
   "metadata": {},
   "outputs": [
    {
     "data": {
      "text/plain": [
       "['P',\n",
       " 'w',\n",
       " 'S',\n",
       " 'k',\n",
       " 'i',\n",
       " 'l',\n",
       " 's',\n",
       " 's',\n",
       " 1,\n",
       " 235,\n",
       " 545,\n",
       " 'Bhagi',\n",
       " True,\n",
       " (4+4j),\n",
       " 232.43]"
      ]
     },
     "execution_count": 24,
     "metadata": {},
     "output_type": "execute_result"
    }
   ],
   "source": [
    "list(s) + l"
   ]
  },
  {
   "cell_type": "code",
   "execution_count": 25,
   "id": "3b0d90aa-ec87-4311-a8a5-f97b8cad837c",
   "metadata": {},
   "outputs": [
    {
     "data": {
      "text/plain": [
       "[1, 235, 545, 'Bhagi', True, (4+4j), 232.43]"
      ]
     },
     "execution_count": 25,
     "metadata": {},
     "output_type": "execute_result"
    }
   ],
   "source": [
    "l"
   ]
  },
  {
   "cell_type": "code",
   "execution_count": 27,
   "id": "92e456ca-7bde-4421-9834-3170ffa63886",
   "metadata": {},
   "outputs": [
    {
     "data": {
      "text/plain": [
       "str"
      ]
     },
     "execution_count": 27,
     "metadata": {},
     "output_type": "execute_result"
    }
   ],
   "source": [
    "type(l[3])"
   ]
  },
  {
   "cell_type": "code",
   "execution_count": 28,
   "id": "9fc18760-51b2-4073-b3af-5c569d0eaa1d",
   "metadata": {},
   "outputs": [
    {
     "data": {
      "text/plain": [
       "'Bhagi'"
      ]
     },
     "execution_count": 28,
     "metadata": {},
     "output_type": "execute_result"
    }
   ],
   "source": [
    "l[3]"
   ]
  },
  {
   "cell_type": "code",
   "execution_count": 30,
   "id": "579c8290-10ee-40c1-89b0-252dcc19f5b7",
   "metadata": {},
   "outputs": [
    {
     "data": {
      "text/plain": [
       "'Bh'"
      ]
     },
     "execution_count": 30,
     "metadata": {},
     "output_type": "execute_result"
    }
   ],
   "source": [
    "l[3][0:2]"
   ]
  },
  {
   "cell_type": "code",
   "execution_count": 31,
   "id": "ab78f306-60d4-4d9c-8048-904522e625ba",
   "metadata": {},
   "outputs": [
    {
     "data": {
      "text/plain": [
       "(4+4j)"
      ]
     },
     "execution_count": 31,
     "metadata": {},
     "output_type": "execute_result"
    }
   ],
   "source": [
    "l[5]"
   ]
  },
  {
   "cell_type": "code",
   "execution_count": 34,
   "id": "8716cb3e-bb37-43ad-ac62-8d0f14d4d944",
   "metadata": {},
   "outputs": [
    {
     "data": {
      "text/plain": [
       "True"
      ]
     },
     "execution_count": 34,
     "metadata": {},
     "output_type": "execute_result"
    }
   ],
   "source": [
    "l[4]"
   ]
  },
  {
   "cell_type": "code",
   "execution_count": 37,
   "id": "dbd59060-0e1f-4d4e-9a0d-b499084cf6ad",
   "metadata": {},
   "outputs": [
    {
     "data": {
      "text/plain": [
       "'Tr'"
      ]
     },
     "execution_count": 37,
     "metadata": {},
     "output_type": "execute_result"
    }
   ],
   "source": [
    "str(l[4])[0:2]"
   ]
  },
  {
   "cell_type": "code",
   "execution_count": 38,
   "id": "eb8473a2-c3b8-4f64-9deb-0639bc6c1077",
   "metadata": {},
   "outputs": [
    {
     "data": {
      "text/plain": [
       "[1, 235, 545, 'Bhagi', True, (4+4j), 232.43]"
      ]
     },
     "execution_count": 38,
     "metadata": {},
     "output_type": "execute_result"
    }
   ],
   "source": [
    "l"
   ]
  },
  {
   "cell_type": "code",
   "execution_count": 39,
   "id": "981bc888-72d2-494d-8dd8-f72e6662f815",
   "metadata": {},
   "outputs": [
    {
     "ename": "TypeError",
     "evalue": "can only concatenate list (not \"int\") to list",
     "output_type": "error",
     "traceback": [
      "\u001b[0;31m---------------------------------------------------------------------------\u001b[0m",
      "\u001b[0;31mTypeError\u001b[0m                                 Traceback (most recent call last)",
      "Cell \u001b[0;32mIn[39], line 1\u001b[0m\n\u001b[0;32m----> 1\u001b[0m \u001b[43ml\u001b[49m\u001b[43m \u001b[49m\u001b[38;5;241;43m+\u001b[39;49m\u001b[38;5;241;43m5\u001b[39;49m\n",
      "\u001b[0;31mTypeError\u001b[0m: can only concatenate list (not \"int\") to list"
     ]
    }
   ],
   "source": []
  },
  {
   "cell_type": "code",
   "execution_count": 40,
   "id": "94029b8f-98a9-4277-bb12-6ddadc527d56",
   "metadata": {},
   "outputs": [
    {
     "ename": "TypeError",
     "evalue": "unsupported operand type(s) for *: 'type' and 'type'",
     "output_type": "error",
     "traceback": [
      "\u001b[0;31m---------------------------------------------------------------------------\u001b[0m",
      "\u001b[0;31mTypeError\u001b[0m                                 Traceback (most recent call last)",
      "Cell \u001b[0;32mIn[40], line 1\u001b[0m\n\u001b[0;32m----> 1\u001b[0m \u001b[38;5;28;43mlist\u001b[39;49m\u001b[43m \u001b[49m\u001b[38;5;241;43m*\u001b[39;49m\u001b[43m \u001b[49m\u001b[38;5;28;43mlist\u001b[39;49m\n",
      "\u001b[0;31mTypeError\u001b[0m: unsupported operand type(s) for *: 'type' and 'type'"
     ]
    }
   ],
   "source": [
    "list * list"
   ]
  },
  {
   "cell_type": "code",
   "execution_count": 44,
   "id": "874fbacc-cb04-44cb-b373-f2bd5bb58652",
   "metadata": {},
   "outputs": [],
   "source": [
    "l1 = [3,4,5]"
   ]
  },
  {
   "cell_type": "code",
   "execution_count": 45,
   "id": "7d6ea3b6-ff80-4876-b7c4-2f82348d4839",
   "metadata": {},
   "outputs": [
    {
     "data": {
      "text/plain": [
       "[3, 4, 5]"
      ]
     },
     "execution_count": 45,
     "metadata": {},
     "output_type": "execute_result"
    }
   ],
   "source": [
    "l1"
   ]
  },
  {
   "cell_type": "code",
   "execution_count": 47,
   "id": "71183edc-aace-495a-9d20-31483ef6589f",
   "metadata": {},
   "outputs": [
    {
     "ename": "TypeError",
     "evalue": "can only concatenate str (not \"list\") to str",
     "output_type": "error",
     "traceback": [
      "\u001b[0;31m---------------------------------------------------------------------------\u001b[0m",
      "\u001b[0;31mTypeError\u001b[0m                                 Traceback (most recent call last)",
      "Cell \u001b[0;32mIn[47], line 1\u001b[0m\n\u001b[0;32m----> 1\u001b[0m \u001b[43ml\u001b[49m\u001b[38;5;241;43m+\u001b[39;49m\u001b[43m \u001b[49m\u001b[43ml1\u001b[49m\n",
      "\u001b[0;31mTypeError\u001b[0m: can only concatenate str (not \"list\") to str"
     ]
    }
   ],
   "source": [
    "l+ l1"
   ]
  },
  {
   "cell_type": "code",
   "execution_count": 50,
   "id": "c52644be-65fc-4a58-874a-ac16c08e0e91",
   "metadata": {},
   "outputs": [
    {
     "data": {
      "text/plain": [
       "[1, 235, 545, 'Bhagi', True, (4+4j), 232.43, 3, 4, 5]"
      ]
     },
     "execution_count": 50,
     "metadata": {},
     "output_type": "execute_result"
    }
   ],
   "source": [
    "l + l1"
   ]
  },
  {
   "cell_type": "code",
   "execution_count": 51,
   "id": "121e1689-505d-43d9-a331-9bbc2cdb7aa2",
   "metadata": {},
   "outputs": [
    {
     "data": {
      "text/plain": [
       "[3, 4, 5, 3, 4, 5, 3, 4, 5]"
      ]
     },
     "execution_count": 51,
     "metadata": {},
     "output_type": "execute_result"
    }
   ],
   "source": [
    "l1 * 3"
   ]
  },
  {
   "cell_type": "code",
   "execution_count": 52,
   "id": "0c1857b8-3007-4f74-85b0-f2ec68c3c2a2",
   "metadata": {},
   "outputs": [
    {
     "data": {
      "text/plain": [
       "[1, 235, 545, 'Bhagi', True, (4+4j), 232.43]"
      ]
     },
     "execution_count": 52,
     "metadata": {},
     "output_type": "execute_result"
    }
   ],
   "source": [
    "l"
   ]
  },
  {
   "cell_type": "code",
   "execution_count": 53,
   "id": "6a595366-bb33-4c42-ab79-31557ee0338f",
   "metadata": {},
   "outputs": [
    {
     "data": {
      "text/plain": [
       "7"
      ]
     },
     "execution_count": 53,
     "metadata": {},
     "output_type": "execute_result"
    }
   ],
   "source": [
    "len(l)"
   ]
  },
  {
   "cell_type": "code",
   "execution_count": 54,
   "id": "94051336-7a63-466e-bdda-892da146693a",
   "metadata": {},
   "outputs": [
    {
     "data": {
      "text/plain": [
       "[1, 235, 545, 'Bhagi', True, (4+4j), 232.43]"
      ]
     },
     "execution_count": 54,
     "metadata": {},
     "output_type": "execute_result"
    }
   ],
   "source": [
    "l"
   ]
  },
  {
   "cell_type": "code",
   "execution_count": 58,
   "id": "840ab99a-740f-4d20-82ea-4ac950817d99",
   "metadata": {},
   "outputs": [],
   "source": [
    "l.append(5)"
   ]
  },
  {
   "cell_type": "code",
   "execution_count": 60,
   "id": "417373e1-0254-4469-8ca6-ff344e28addd",
   "metadata": {},
   "outputs": [
    {
     "data": {
      "text/plain": [
       "[1, 235, 545, 'Bhagi', True, (4+4j), 232.43, 5, 5, 5, 5]"
      ]
     },
     "execution_count": 60,
     "metadata": {},
     "output_type": "execute_result"
    }
   ],
   "source": [
    "l"
   ]
  },
  {
   "cell_type": "code",
   "execution_count": 63,
   "id": "9debe424-87c8-4111-9cdf-f6cb123f06bb",
   "metadata": {},
   "outputs": [],
   "source": [
    "l.append(s)"
   ]
  },
  {
   "cell_type": "code",
   "execution_count": 64,
   "id": "15fda275-777a-4f5b-9ab6-0abbb0adadb6",
   "metadata": {},
   "outputs": [
    {
     "data": {
      "text/plain": [
       "[1, 235, 545, 'Bhagi', True, (4+4j), 232.43, 5, 5, 5, 5, 'PwSkilss']"
      ]
     },
     "execution_count": 64,
     "metadata": {},
     "output_type": "execute_result"
    }
   ],
   "source": [
    "l"
   ]
  },
  {
   "cell_type": "code",
   "execution_count": 65,
   "id": "2752766a-f090-4f6d-99ae-1698bf992e0e",
   "metadata": {},
   "outputs": [],
   "source": [
    "l.append(l1)"
   ]
  },
  {
   "cell_type": "code",
   "execution_count": 66,
   "id": "028bf47c-7287-4f4c-a070-8436c4ff47d6",
   "metadata": {},
   "outputs": [
    {
     "data": {
      "text/plain": [
       "[1, 235, 545, 'Bhagi', True, (4+4j), 232.43, 5, 5, 5, 5, 'PwSkilss', [3, 4, 5]]"
      ]
     },
     "execution_count": 66,
     "metadata": {},
     "output_type": "execute_result"
    }
   ],
   "source": [
    "l"
   ]
  },
  {
   "cell_type": "code",
   "execution_count": 68,
   "id": "7f047bbd-e234-4bb7-9a63-d4818794439c",
   "metadata": {},
   "outputs": [
    {
     "data": {
      "text/plain": [
       "4"
      ]
     },
     "execution_count": 68,
     "metadata": {},
     "output_type": "execute_result"
    }
   ],
   "source": [
    "l[-1][1]"
   ]
  },
  {
   "cell_type": "code",
   "execution_count": 69,
   "id": "0e457f5f-9ffc-43df-893c-df61f126183f",
   "metadata": {},
   "outputs": [
    {
     "data": {
      "text/plain": [
       "[1, 235, 545, 'Bhagi', True, (4+4j), 232.43, 5, 5, 5, 5, 'PwSkilss', [3, 4, 5]]"
      ]
     },
     "execution_count": 69,
     "metadata": {},
     "output_type": "execute_result"
    }
   ],
   "source": [
    "l"
   ]
  },
  {
   "cell_type": "code",
   "execution_count": 70,
   "id": "eebcc5b2-fa99-4e5d-aba3-6f3fe6fbb6df",
   "metadata": {},
   "outputs": [
    {
     "ename": "TypeError",
     "evalue": "'int' object is not iterable",
     "output_type": "error",
     "traceback": [
      "\u001b[0;31m---------------------------------------------------------------------------\u001b[0m",
      "\u001b[0;31mTypeError\u001b[0m                                 Traceback (most recent call last)",
      "Cell \u001b[0;32mIn[70], line 1\u001b[0m\n\u001b[0;32m----> 1\u001b[0m \u001b[43ml\u001b[49m\u001b[38;5;241;43m.\u001b[39;49m\u001b[43mextend\u001b[49m\u001b[43m(\u001b[49m\u001b[38;5;241;43m4\u001b[39;49m\u001b[43m)\u001b[49m\n",
      "\u001b[0;31mTypeError\u001b[0m: 'int' object is not iterable"
     ]
    }
   ],
   "source": [
    "l.extend(4)"
   ]
  },
  {
   "cell_type": "code",
   "execution_count": 78,
   "id": "502d854f-11c1-413d-b848-5484a0ced6d1",
   "metadata": {},
   "outputs": [],
   "source": [
    "l.extend(\"Bhagyesh\")"
   ]
  },
  {
   "cell_type": "code",
   "execution_count": 79,
   "id": "a60d36af-83c1-411b-8230-e01f8405979e",
   "metadata": {},
   "outputs": [
    {
     "data": {
      "text/plain": [
       "[1,\n",
       " 235,\n",
       " 545,\n",
       " 'Bhagi',\n",
       " True,\n",
       " (4+4j),\n",
       " 232.43,\n",
       " 5,\n",
       " 5,\n",
       " 5,\n",
       " 5,\n",
       " 'PwSkilss',\n",
       " [3, 4, 5],\n",
       " 'B',\n",
       " 'h',\n",
       " 'a',\n",
       " 'g',\n",
       " 'y',\n",
       " 'e',\n",
       " 's',\n",
       " 'h',\n",
       " 'B',\n",
       " 'h',\n",
       " 'a',\n",
       " 'g',\n",
       " 'y',\n",
       " 'e',\n",
       " 's',\n",
       " 'h',\n",
       " 3,\n",
       " 4,\n",
       " 5,\n",
       " 'B',\n",
       " 'h',\n",
       " 'a',\n",
       " 'g',\n",
       " 'y',\n",
       " 'e',\n",
       " 's',\n",
       " 'h']"
      ]
     },
     "execution_count": 79,
     "metadata": {},
     "output_type": "execute_result"
    }
   ],
   "source": [
    "l"
   ]
  },
  {
   "cell_type": "code",
   "execution_count": 77,
   "id": "52a0d193-0d7c-4bd4-9e18-ae9dc3d87af5",
   "metadata": {},
   "outputs": [
    {
     "data": {
      "text/plain": [
       "[1,\n",
       " 235,\n",
       " 545,\n",
       " 'Bhagi',\n",
       " True,\n",
       " (4+4j),\n",
       " 232.43,\n",
       " 5,\n",
       " 5,\n",
       " 5,\n",
       " 5,\n",
       " 'PwSkilss',\n",
       " [3, 4, 5],\n",
       " 'B',\n",
       " 'h',\n",
       " 'a',\n",
       " 'g',\n",
       " 'y',\n",
       " 'e',\n",
       " 's',\n",
       " 'h',\n",
       " 'B',\n",
       " 'h',\n",
       " 'a',\n",
       " 'g',\n",
       " 'y',\n",
       " 'e',\n",
       " 's',\n",
       " 'h',\n",
       " 3,\n",
       " 4,\n",
       " 5]"
      ]
     },
     "execution_count": 77,
     "metadata": {},
     "output_type": "execute_result"
    }
   ],
   "source": [
    "l.extend([3,4,5])\n",
    "l"
   ]
  },
  {
   "cell_type": "code",
   "execution_count": 80,
   "id": "2c21f37e-f9f4-4297-ac7c-c08b8bb3782c",
   "metadata": {},
   "outputs": [
    {
     "data": {
      "text/plain": [
       "[3, 4, 5]"
      ]
     },
     "execution_count": 80,
     "metadata": {},
     "output_type": "execute_result"
    }
   ],
   "source": [
    "l1"
   ]
  },
  {
   "cell_type": "code",
   "execution_count": 87,
   "id": "e24745f7-8571-4b05-8470-58f26faeda12",
   "metadata": {},
   "outputs": [],
   "source": [
    "l1.insert(1, \"Chaudhari\")"
   ]
  },
  {
   "cell_type": "code",
   "execution_count": 88,
   "id": "efb982d8-4fb6-4486-99dd-cc494fbebaa3",
   "metadata": {},
   "outputs": [
    {
     "data": {
      "text/plain": [
       "[3, 'Chaudhari', 4, 'Chaudhari', 5]"
      ]
     },
     "execution_count": 88,
     "metadata": {},
     "output_type": "execute_result"
    }
   ],
   "source": [
    "l1"
   ]
  },
  {
   "cell_type": "code",
   "execution_count": 90,
   "id": "b576c361-a7a9-41d0-9390-8ac54a20b9e6",
   "metadata": {},
   "outputs": [],
   "source": [
    "l1.insert(2, [2,5,9])"
   ]
  },
  {
   "cell_type": "code",
   "execution_count": 91,
   "id": "db2e52c5-9dba-47f4-a266-aaeaf453a6f0",
   "metadata": {},
   "outputs": [
    {
     "data": {
      "text/plain": [
       "[3, 'Chaudhari', [2, 5, 9], 4, 'Chaudhari', 5]"
      ]
     },
     "execution_count": 91,
     "metadata": {},
     "output_type": "execute_result"
    }
   ],
   "source": [
    "l1"
   ]
  },
  {
   "cell_type": "code",
   "execution_count": 92,
   "id": "bac3640a-4c8f-47f6-b555-8f07fcfdf293",
   "metadata": {},
   "outputs": [],
   "source": [
    "l1.insert(-1, 45)"
   ]
  },
  {
   "cell_type": "code",
   "execution_count": 93,
   "id": "e3c2fbab-981c-46c8-a8bc-8cb7f78f51cd",
   "metadata": {},
   "outputs": [
    {
     "data": {
      "text/plain": [
       "[3, 'Chaudhari', [2, 5, 9], 4, 'Chaudhari', 45, 5]"
      ]
     },
     "execution_count": 93,
     "metadata": {},
     "output_type": "execute_result"
    }
   ],
   "source": [
    "l1"
   ]
  },
  {
   "cell_type": "code",
   "execution_count": 94,
   "id": "2fe0addd-a083-4ac6-b567-c1fae4e72839",
   "metadata": {},
   "outputs": [
    {
     "data": {
      "text/plain": [
       "[3, 'Chaudhari', [2, 5, 9], 4, 'Chaudhari', 45, 5]"
      ]
     },
     "execution_count": 94,
     "metadata": {},
     "output_type": "execute_result"
    }
   ],
   "source": [
    "l1"
   ]
  },
  {
   "cell_type": "code",
   "execution_count": 95,
   "id": "61104233-a8de-4a52-9d95-3ebcc529e7ab",
   "metadata": {},
   "outputs": [
    {
     "data": {
      "text/plain": [
       "'h'"
      ]
     },
     "execution_count": 95,
     "metadata": {},
     "output_type": "execute_result"
    }
   ],
   "source": [
    "l.pop()"
   ]
  },
  {
   "cell_type": "code",
   "execution_count": 96,
   "id": "cdc056ab-e6a0-47b1-b6d8-525677f67c88",
   "metadata": {},
   "outputs": [
    {
     "data": {
      "text/plain": [
       "'s'"
      ]
     },
     "execution_count": 96,
     "metadata": {},
     "output_type": "execute_result"
    }
   ],
   "source": [
    "l.pop()"
   ]
  },
  {
   "cell_type": "code",
   "execution_count": 97,
   "id": "6d322a9a-7a01-4881-a778-66d769f8ea33",
   "metadata": {},
   "outputs": [
    {
     "data": {
      "text/plain": [
       "5"
      ]
     },
     "execution_count": 97,
     "metadata": {},
     "output_type": "execute_result"
    }
   ],
   "source": [
    "l1.pop()"
   ]
  },
  {
   "cell_type": "code",
   "execution_count": 98,
   "id": "ed8c48f1-dd54-427b-ba86-26d9de964d7d",
   "metadata": {},
   "outputs": [
    {
     "data": {
      "text/plain": [
       "[2, 5, 9]"
      ]
     },
     "execution_count": 98,
     "metadata": {},
     "output_type": "execute_result"
    }
   ],
   "source": [
    "l1.pop(2)"
   ]
  },
  {
   "cell_type": "code",
   "execution_count": 99,
   "id": "90ec2025-7587-456c-acf2-2f9e7623a622",
   "metadata": {},
   "outputs": [
    {
     "data": {
      "text/plain": [
       "[3, 'Chaudhari', 4, 'Chaudhari', 45]"
      ]
     },
     "execution_count": 99,
     "metadata": {},
     "output_type": "execute_result"
    }
   ],
   "source": [
    "l1"
   ]
  },
  {
   "cell_type": "code",
   "execution_count": 100,
   "id": "e1c72dd2-591c-4d90-a060-d75a1ba793ef",
   "metadata": {},
   "outputs": [],
   "source": [
    "l1.remove(\"Chaudhari\")"
   ]
  },
  {
   "cell_type": "code",
   "execution_count": 101,
   "id": "0487b3a5-a5d8-40d8-9d65-65417c5e8903",
   "metadata": {},
   "outputs": [
    {
     "data": {
      "text/plain": [
       "[3, 4, 'Chaudhari', 45]"
      ]
     },
     "execution_count": 101,
     "metadata": {},
     "output_type": "execute_result"
    }
   ],
   "source": [
    "l1"
   ]
  },
  {
   "cell_type": "code",
   "execution_count": 102,
   "id": "ebe70460-3f4c-417e-97c6-3e6bc2031232",
   "metadata": {},
   "outputs": [],
   "source": [
    "l1.remove(4)"
   ]
  },
  {
   "cell_type": "code",
   "execution_count": 103,
   "id": "f0a63081-6c4a-4bc3-97ea-2a45063df5ca",
   "metadata": {},
   "outputs": [
    {
     "data": {
      "text/plain": [
       "[3, 'Chaudhari', 45]"
      ]
     },
     "execution_count": 103,
     "metadata": {},
     "output_type": "execute_result"
    }
   ],
   "source": [
    "l1"
   ]
  },
  {
   "cell_type": "code",
   "execution_count": 104,
   "id": "147f99fe-ea69-4572-a7a2-f093d1828c99",
   "metadata": {},
   "outputs": [
    {
     "data": {
      "text/plain": [
       "[3, 'Chaudhari', 45]"
      ]
     },
     "execution_count": 104,
     "metadata": {},
     "output_type": "execute_result"
    }
   ],
   "source": [
    "l1"
   ]
  },
  {
   "cell_type": "code",
   "execution_count": 105,
   "id": "68ab1c8e-555a-43a8-ada4-baf2142bdbcc",
   "metadata": {},
   "outputs": [
    {
     "ename": "NameError",
     "evalue": "name 'ri' is not defined",
     "output_type": "error",
     "traceback": [
      "\u001b[0;31m---------------------------------------------------------------------------\u001b[0m",
      "\u001b[0;31mNameError\u001b[0m                                 Traceback (most recent call last)",
      "Cell \u001b[0;32mIn[105], line 1\u001b[0m\n\u001b[0;32m----> 1\u001b[0m l1\u001b[38;5;241m.\u001b[39mremove(\u001b[43mri\u001b[49m)\n",
      "\u001b[0;31mNameError\u001b[0m: name 'ri' is not defined"
     ]
    }
   ],
   "source": [
    "l1.remove(ri)\n",
    "#String is immutable Object so we cannot Specifice alphabet"
   ]
  },
  {
   "cell_type": "code",
   "execution_count": 107,
   "id": "bef5c436-5a75-49e3-ae4d-d02dce2ceb23",
   "metadata": {},
   "outputs": [
    {
     "data": {
      "text/plain": [
       "[3, 'Chaudhari', 45]"
      ]
     },
     "execution_count": 107,
     "metadata": {},
     "output_type": "execute_result"
    }
   ],
   "source": [
    "l1"
   ]
  },
  {
   "cell_type": "code",
   "execution_count": 108,
   "id": "09ef7dff-f4ed-461b-8dfc-70fd7b5d159d",
   "metadata": {},
   "outputs": [],
   "source": [
    "l1.append(4)"
   ]
  },
  {
   "cell_type": "code",
   "execution_count": 109,
   "id": "d7d5a9fc-2abe-466a-b503-d8ce7bebdb74",
   "metadata": {},
   "outputs": [
    {
     "data": {
      "text/plain": [
       "[3, 'Chaudhari', 45, 4]"
      ]
     },
     "execution_count": 109,
     "metadata": {},
     "output_type": "execute_result"
    }
   ],
   "source": [
    "l1"
   ]
  },
  {
   "cell_type": "code",
   "execution_count": 110,
   "id": "7a47867a-9ca9-4ef1-a1d3-f28019ea198c",
   "metadata": {},
   "outputs": [],
   "source": [
    "l1.reverse()\n",
    "#reverse func Use for Permenent Reverse."
   ]
  },
  {
   "cell_type": "code",
   "execution_count": 111,
   "id": "155e0ffa-9557-4ae5-9d41-113cf406fb4a",
   "metadata": {},
   "outputs": [
    {
     "data": {
      "text/plain": [
       "[4, 45, 'Chaudhari', 3]"
      ]
     },
     "execution_count": 111,
     "metadata": {},
     "output_type": "execute_result"
    }
   ],
   "source": [
    "l1"
   ]
  },
  {
   "cell_type": "code",
   "execution_count": 112,
   "id": "f55fe65a-7b98-46d6-8a3e-7d59bb7e1b4f",
   "metadata": {},
   "outputs": [
    {
     "data": {
      "text/plain": [
       "[3, 'Chaudhari', 45, 4]"
      ]
     },
     "execution_count": 112,
     "metadata": {},
     "output_type": "execute_result"
    }
   ],
   "source": [
    "l1[::-1]\n",
    "#this reversing the L1 for Temprorary "
   ]
  },
  {
   "cell_type": "code",
   "execution_count": 113,
   "id": "76cfd564-79e4-4e41-a99a-be3d220ecfd2",
   "metadata": {},
   "outputs": [
    {
     "data": {
      "text/plain": [
       "[4, 45, 'Chaudhari', 3]"
      ]
     },
     "execution_count": 113,
     "metadata": {},
     "output_type": "execute_result"
    }
   ],
   "source": [
    "l1"
   ]
  },
  {
   "cell_type": "code",
   "execution_count": 114,
   "id": "e108a021-6584-4b20-82ed-3f0c1c0f84cb",
   "metadata": {},
   "outputs": [
    {
     "ename": "TypeError",
     "evalue": "'<' not supported between instances of 'str' and 'int'",
     "output_type": "error",
     "traceback": [
      "\u001b[0;31m---------------------------------------------------------------------------\u001b[0m",
      "\u001b[0;31mTypeError\u001b[0m                                 Traceback (most recent call last)",
      "Cell \u001b[0;32mIn[114], line 1\u001b[0m\n\u001b[0;32m----> 1\u001b[0m \u001b[43ml1\u001b[49m\u001b[38;5;241;43m.\u001b[39;49m\u001b[43msort\u001b[49m\u001b[43m(\u001b[49m\u001b[43m)\u001b[49m\n",
      "\u001b[0;31mTypeError\u001b[0m: '<' not supported between instances of 'str' and 'int'"
     ]
    }
   ],
   "source": [
    "l1.sort()"
   ]
  },
  {
   "cell_type": "code",
   "execution_count": 120,
   "id": "0fe97a5a-1e0e-4ea9-86f0-7da6a44c0cbd",
   "metadata": {},
   "outputs": [],
   "source": [
    "l2 = [45,80,5110,3,4,5,6,7,8,9]"
   ]
  },
  {
   "cell_type": "code",
   "execution_count": 121,
   "id": "352923ad-b380-437b-9f9a-cb0e9228809c",
   "metadata": {},
   "outputs": [
    {
     "data": {
      "text/plain": [
       "[3, 4, 5, 6, 7, 8, 9, 45, 80, 5110]"
      ]
     },
     "execution_count": 121,
     "metadata": {},
     "output_type": "execute_result"
    }
   ],
   "source": [
    "l2.sort()\n",
    "l2"
   ]
  },
  {
   "cell_type": "code",
   "execution_count": 122,
   "id": "4be85318-6d37-4808-9f75-4e68b994d6fc",
   "metadata": {},
   "outputs": [],
   "source": [
    "l3 = [34,\"Bhagye\",45,12,\"Chaudhar\"]"
   ]
  },
  {
   "cell_type": "code",
   "execution_count": 123,
   "id": "f71e5d05-75af-4ace-8cf6-953c64069826",
   "metadata": {},
   "outputs": [
    {
     "ename": "TypeError",
     "evalue": "'<' not supported between instances of 'str' and 'int'",
     "output_type": "error",
     "traceback": [
      "\u001b[0;31m---------------------------------------------------------------------------\u001b[0m",
      "\u001b[0;31mTypeError\u001b[0m                                 Traceback (most recent call last)",
      "Cell \u001b[0;32mIn[123], line 1\u001b[0m\n\u001b[0;32m----> 1\u001b[0m \u001b[43ml3\u001b[49m\u001b[38;5;241;43m.\u001b[39;49m\u001b[43msort\u001b[49m\u001b[43m(\u001b[49m\u001b[43m)\u001b[49m\n",
      "\u001b[0;31mTypeError\u001b[0m: '<' not supported between instances of 'str' and 'int'"
     ]
    }
   ],
   "source": [
    "l3.sort()"
   ]
  },
  {
   "cell_type": "code",
   "execution_count": 2,
   "id": "7c374d43-181a-488f-9e66-855684daa954",
   "metadata": {},
   "outputs": [],
   "source": [
    "l4 = [ \"Sudh\", \"Bhagyesh\", \"Pwskills\"]"
   ]
  },
  {
   "cell_type": "code",
   "execution_count": 3,
   "id": "eb9ff120-5a8d-4d5e-b5cd-3198b89e92df",
   "metadata": {},
   "outputs": [],
   "source": [
    "l4.sort(reverse=True)"
   ]
  },
  {
   "cell_type": "code",
   "execution_count": 4,
   "id": "45864bac-508b-4d8d-b324-287d34a9020c",
   "metadata": {},
   "outputs": [
    {
     "data": {
      "text/plain": [
       "['Sudh', 'Pwskills', 'Bhagyesh']"
      ]
     },
     "execution_count": 4,
     "metadata": {},
     "output_type": "execute_result"
    }
   ],
   "source": [
    "l4"
   ]
  },
  {
   "cell_type": "code",
   "execution_count": 6,
   "id": "7767eb1c-1e63-4d0b-8536-c0dccdb4904f",
   "metadata": {},
   "outputs": [
    {
     "data": {
      "text/plain": [
       "0"
      ]
     },
     "execution_count": 6,
     "metadata": {},
     "output_type": "execute_result"
    }
   ],
   "source": [
    "l4.index(\"Sudh\")"
   ]
  },
  {
   "cell_type": "code",
   "execution_count": 8,
   "id": "597476da-38cb-41ae-8686-b86cce7a5e2a",
   "metadata": {},
   "outputs": [
    {
     "data": {
      "text/plain": [
       "1"
      ]
     },
     "execution_count": 8,
     "metadata": {},
     "output_type": "execute_result"
    }
   ],
   "source": [
    "l4.count(\"Sudh\")"
   ]
  },
  {
   "cell_type": "code",
   "execution_count": 9,
   "id": "1a2db44a-820e-48ab-bdc7-2be68d0dcba2",
   "metadata": {},
   "outputs": [],
   "source": [
    "s = \"Suh\""
   ]
  },
  {
   "cell_type": "code",
   "execution_count": 10,
   "id": "10efbce7-30a4-473e-ad32-6eddae9eb3fd",
   "metadata": {},
   "outputs": [],
   "source": [
    "l5 =[ 3,4,5,6]"
   ]
  },
  {
   "cell_type": "code",
   "execution_count": 12,
   "id": "9c84b41c-361d-4624-a70d-23cc8a7abc3b",
   "metadata": {},
   "outputs": [
    {
     "ename": "TypeError",
     "evalue": "'str' object does not support item assignment",
     "output_type": "error",
     "traceback": [
      "\u001b[0;31m---------------------------------------------------------------------------\u001b[0m",
      "\u001b[0;31mTypeError\u001b[0m                                 Traceback (most recent call last)",
      "Cell \u001b[0;32mIn[12], line 1\u001b[0m\n\u001b[0;32m----> 1\u001b[0m \u001b[43ms\u001b[49m\u001b[43m[\u001b[49m\u001b[38;5;241;43m0\u001b[39;49m\u001b[43m]\u001b[49m \u001b[38;5;241m=\u001b[39m\u001b[38;5;124m'\u001b[39m\u001b[38;5;124ma\u001b[39m\u001b[38;5;124m'\u001b[39m\n",
      "\u001b[0;31mTypeError\u001b[0m: 'str' object does not support item assignment"
     ]
    }
   ],
   "source": [
    "s[0] ='a'"
   ]
  },
  {
   "cell_type": "code",
   "execution_count": 17,
   "id": "4b9d2c9e-a4a4-463b-8710-84f4a95a6d55",
   "metadata": {},
   "outputs": [],
   "source": [
    "l5[0] = 30"
   ]
  },
  {
   "cell_type": "code",
   "execution_count": 16,
   "id": "fc325cf7-6415-4f45-a3be-5b91ad9071ff",
   "metadata": {},
   "outputs": [
    {
     "data": {
      "text/plain": [
       "[30, 4, 5, 6]"
      ]
     },
     "execution_count": 16,
     "metadata": {},
     "output_type": "execute_result"
    }
   ],
   "source": [
    "l5"
   ]
  },
  {
   "cell_type": "code",
   "execution_count": 18,
   "id": "dfa06a8f-8aee-4804-ba28-f67728386c7b",
   "metadata": {},
   "outputs": [],
   "source": [
    "#list are mutable Enitity \n",
    "#String are inmutable"
   ]
  },
  {
   "cell_type": "code",
   "execution_count": 19,
   "id": "c857aa64-b7e3-48d8-9047-9bd2e7173cf6",
   "metadata": {},
   "outputs": [
    {
     "data": {
      "text/plain": [
       "'Suh'"
      ]
     },
     "execution_count": 19,
     "metadata": {},
     "output_type": "execute_result"
    }
   ],
   "source": [
    "s"
   ]
  },
  {
   "cell_type": "code",
   "execution_count": 26,
   "id": "0ebe6995-6d5f-46ce-94b2-a4217f4e50af",
   "metadata": {},
   "outputs": [
    {
     "data": {
      "text/plain": [
       "'auh'"
      ]
     },
     "execution_count": 26,
     "metadata": {},
     "output_type": "execute_result"
    }
   ],
   "source": [
    "s.replace('S','a')"
   ]
  },
  {
   "cell_type": "code",
   "execution_count": 25,
   "id": "d18e34e3-049a-41e0-8a6d-48f7655db8c2",
   "metadata": {},
   "outputs": [
    {
     "data": {
      "text/plain": [
       "'auh'"
      ]
     },
     "execution_count": 25,
     "metadata": {},
     "output_type": "execute_result"
    }
   ],
   "source": [
    "s"
   ]
  },
  {
   "cell_type": "code",
   "execution_count": 27,
   "id": "794f0d63-90eb-441e-9a29-c721e9b5f2c8",
   "metadata": {},
   "outputs": [
    {
     "data": {
      "text/plain": [
       "'auh'"
      ]
     },
     "execution_count": 27,
     "metadata": {},
     "output_type": "execute_result"
    }
   ],
   "source": [
    "s"
   ]
  },
  {
   "cell_type": "code",
   "execution_count": 30,
   "id": "f79e59fa-44b3-4ce5-b46b-00df6f45eb95",
   "metadata": {},
   "outputs": [
    {
     "data": {
      "text/plain": [
       "(2, 3, 4, 5, 'sudh', 45.56, False, (45+457j), [3, 4, 6])"
      ]
     },
     "execution_count": 30,
     "metadata": {},
     "output_type": "execute_result"
    }
   ],
   "source": [
    "t = (2,3,4,5,\"sudh\",45.56,False, 45+457j, [3,4,6]) #Tuple\n",
    "t"
   ]
  },
  {
   "cell_type": "code",
   "execution_count": 31,
   "id": "ee552718-779c-4bdc-a8be-5f82c2fdfc23",
   "metadata": {},
   "outputs": [
    {
     "data": {
      "text/plain": [
       "tuple"
      ]
     },
     "execution_count": 31,
     "metadata": {},
     "output_type": "execute_result"
    }
   ],
   "source": [
    "type(t)"
   ]
  },
  {
   "cell_type": "code",
   "execution_count": 32,
   "id": "5039c704-a093-467e-8dcc-26f97e917824",
   "metadata": {},
   "outputs": [
    {
     "data": {
      "text/plain": [
       "9"
      ]
     },
     "execution_count": 32,
     "metadata": {},
     "output_type": "execute_result"
    }
   ],
   "source": [
    "len(t)"
   ]
  },
  {
   "cell_type": "code",
   "execution_count": 33,
   "id": "22b43717-9a9e-4417-8cd7-a01c1f3f7ff2",
   "metadata": {},
   "outputs": [
    {
     "ename": "IndexError",
     "evalue": "tuple index out of range",
     "output_type": "error",
     "traceback": [
      "\u001b[0;31m---------------------------------------------------------------------------\u001b[0m",
      "\u001b[0;31mIndexError\u001b[0m                                Traceback (most recent call last)",
      "Cell \u001b[0;32mIn[33], line 1\u001b[0m\n\u001b[0;32m----> 1\u001b[0m \u001b[43mt\u001b[49m\u001b[43m[\u001b[49m\u001b[38;5;241;43m51\u001b[39;49m\u001b[43m]\u001b[49m\n",
      "\u001b[0;31mIndexError\u001b[0m: tuple index out of range"
     ]
    }
   ],
   "source": [
    "t[51]"
   ]
  },
  {
   "cell_type": "code",
   "execution_count": 34,
   "id": "91bceb6d-b688-44dc-ad3b-452e03ac30ef",
   "metadata": {},
   "outputs": [
    {
     "data": {
      "text/plain": [
       "4"
      ]
     },
     "execution_count": 34,
     "metadata": {},
     "output_type": "execute_result"
    }
   ],
   "source": [
    "t[2]"
   ]
  },
  {
   "cell_type": "code",
   "execution_count": 35,
   "id": "9b0de594-6bb9-4631-9578-0d01061c1abc",
   "metadata": {},
   "outputs": [
    {
     "data": {
      "text/plain": [
       "(2,)"
      ]
     },
     "execution_count": 35,
     "metadata": {},
     "output_type": "execute_result"
    }
   ],
   "source": [
    "t[:1]"
   ]
  },
  {
   "cell_type": "code",
   "execution_count": 36,
   "id": "e0c906d4-7fd8-4a48-a683-699f7fd92bb9",
   "metadata": {},
   "outputs": [
    {
     "data": {
      "text/plain": [
       "(3, 5, 45.56, (45+457j))"
      ]
     },
     "execution_count": 36,
     "metadata": {},
     "output_type": "execute_result"
    }
   ],
   "source": [
    "t[1::2]"
   ]
  },
  {
   "cell_type": "code",
   "execution_count": 37,
   "id": "93614c67-df3a-4c35-9ef1-07361dc432c4",
   "metadata": {},
   "outputs": [
    {
     "data": {
      "text/plain": [
       "([3, 4, 6], (45+457j), False, 45.56, 'sudh', 5, 4, 3, 2)"
      ]
     },
     "execution_count": 37,
     "metadata": {},
     "output_type": "execute_result"
    }
   ],
   "source": [
    "t[::-1]"
   ]
  },
  {
   "cell_type": "code",
   "execution_count": 38,
   "id": "f28e0ded-2f7c-415b-b06e-4c5b053c156a",
   "metadata": {},
   "outputs": [],
   "source": [
    "l4[0] =2345"
   ]
  },
  {
   "cell_type": "code",
   "execution_count": 39,
   "id": "0c22b416-5760-4521-8613-f8866adaf10f",
   "metadata": {},
   "outputs": [
    {
     "data": {
      "text/plain": [
       "[2345, 'Pwskills', 'Bhagyesh']"
      ]
     },
     "execution_count": 39,
     "metadata": {},
     "output_type": "execute_result"
    }
   ],
   "source": [
    "l4"
   ]
  },
  {
   "cell_type": "code",
   "execution_count": 40,
   "id": "e57a562b-4e21-437f-824c-d622ad2d8186",
   "metadata": {},
   "outputs": [
    {
     "ename": "TypeError",
     "evalue": "'tuple' object does not support item assignment",
     "output_type": "error",
     "traceback": [
      "\u001b[0;31m---------------------------------------------------------------------------\u001b[0m",
      "\u001b[0;31mTypeError\u001b[0m                                 Traceback (most recent call last)",
      "Cell \u001b[0;32mIn[40], line 1\u001b[0m\n\u001b[0;32m----> 1\u001b[0m \u001b[43mt\u001b[49m\u001b[43m[\u001b[49m\u001b[38;5;241;43m0\u001b[39;49m\u001b[43m]\u001b[49m \u001b[38;5;241m=\u001b[39m \u001b[38;5;124m\"\u001b[39m\u001b[38;5;124mBhagyesh\u001b[39m\u001b[38;5;124m\"\u001b[39m\n",
      "\u001b[0;31mTypeError\u001b[0m: 'tuple' object does not support item assignment"
     ]
    }
   ],
   "source": [
    "t[0] = \"Bhagyesh\""
   ]
  },
  {
   "cell_type": "code",
   "execution_count": 42,
   "id": "f9b8bc8b-5d94-49a5-8d7c-bd141f8b6c3e",
   "metadata": {},
   "outputs": [],
   "source": [
    "#tuples Are mutable "
   ]
  },
  {
   "cell_type": "code",
   "execution_count": 43,
   "id": "addfc8bb-b6f8-4e99-9227-2a4537b2c142",
   "metadata": {},
   "outputs": [
    {
     "data": {
      "text/plain": [
       "([3, 4, 6], (45+457j), False, 45.56, 'sudh', 5, 4, 3, 2)"
      ]
     },
     "execution_count": 43,
     "metadata": {},
     "output_type": "execute_result"
    }
   ],
   "source": [
    "t[::-1]"
   ]
  },
  {
   "cell_type": "code",
   "execution_count": 45,
   "id": "0b8bb327-0466-4137-a557-f517a0bdf628",
   "metadata": {},
   "outputs": [
    {
     "data": {
      "text/plain": [
       "1"
      ]
     },
     "execution_count": 45,
     "metadata": {},
     "output_type": "execute_result"
    }
   ],
   "source": [
    "t.count(5)"
   ]
  },
  {
   "cell_type": "code",
   "execution_count": 46,
   "id": "70d181a5-a21c-4512-b96f-87e18cce89cb",
   "metadata": {},
   "outputs": [
    {
     "data": {
      "text/plain": [
       "6"
      ]
     },
     "execution_count": 46,
     "metadata": {},
     "output_type": "execute_result"
    }
   ],
   "source": [
    "t.index(False)"
   ]
  },
  {
   "cell_type": "code",
   "execution_count": 47,
   "id": "b18d79c3-0c66-49bf-97a5-f37154967d08",
   "metadata": {},
   "outputs": [
    {
     "data": {
      "text/plain": [
       "(2, 3, 4, 5, 'sudh', 45.56, False, (45+457j), [3, 4, 6])"
      ]
     },
     "execution_count": 47,
     "metadata": {},
     "output_type": "execute_result"
    }
   ],
   "source": [
    "t"
   ]
  },
  {
   "cell_type": "code",
   "execution_count": 50,
   "id": "0d7127d3-cafe-41f3-a55b-1a6e1ed2a64a",
   "metadata": {},
   "outputs": [
    {
     "data": {
      "text/plain": [
       "dict"
      ]
     },
     "execution_count": 50,
     "metadata": {},
     "output_type": "execute_result"
    }
   ],
   "source": [
    "s1 = {}\n",
    "type(s1)"
   ]
  },
  {
   "cell_type": "code",
   "execution_count": 52,
   "id": "8c9f8c81-e4de-4323-9f59-ab88d67cd577",
   "metadata": {},
   "outputs": [
    {
     "data": {
      "text/plain": [
       "set"
      ]
     },
     "execution_count": 52,
     "metadata": {},
     "output_type": "execute_result"
    }
   ],
   "source": [
    "s2 = {2,3,4,5,6,7}\n",
    "type(s2)"
   ]
  },
  {
   "cell_type": "code",
   "execution_count": 58,
   "id": "049256b3-7ef5-4d66-9050-e7ff59cc7b8b",
   "metadata": {},
   "outputs": [
    {
     "name": "stdout",
     "output_type": "stream",
     "text": [
      "{3553, 34.456, (2, 3, 4), 'hayeee', 5151, 15}\n"
     ]
    }
   ],
   "source": [
    "s3 = {15,3553,5151,\"hayeee\", 34.456, (2,3,4)}\n",
    "print(s3)"
   ]
  },
  {
   "cell_type": "code",
   "execution_count": 68,
   "id": "15433f89-bec6-4aff-b827-abd9f5bd8917",
   "metadata": {},
   "outputs": [],
   "source": [
    "s4 = {23,40,1,5,3,8,49,132,4,4,841,51651,22,44,9933,5522}"
   ]
  },
  {
   "cell_type": "code",
   "execution_count": 67,
   "id": "573e751f-aa4c-49ea-befd-c5e1eceea79b",
   "metadata": {},
   "outputs": [
    {
     "data": {
      "text/plain": [
       "{1,\n",
       " 132,\n",
       " 22,\n",
       " 23,\n",
       " 3,\n",
       " 4,\n",
       " 40,\n",
       " 44,\n",
       " 49,\n",
       " 5,\n",
       " 51651,\n",
       " 5522,\n",
       " 8,\n",
       " 841,\n",
       " 9933,\n",
       " 'Sudh',\n",
       " 'sudh'}"
      ]
     },
     "execution_count": 67,
     "metadata": {},
     "output_type": "execute_result"
    }
   ],
   "source": [
    "s4"
   ]
  },
  {
   "cell_type": "code",
   "execution_count": 69,
   "id": "8d0669c2-e6eb-4cbc-be69-8853cc8de1a1",
   "metadata": {},
   "outputs": [
    {
     "data": {
      "text/plain": [
       "{1, 3, 4, 5, 8, 22, 23, 40, 44, 49, 132, 841, 5522, 9933, 51651}"
      ]
     },
     "execution_count": 69,
     "metadata": {},
     "output_type": "execute_result"
    }
   ],
   "source": [
    "s4"
   ]
  },
  {
   "cell_type": "code",
   "execution_count": 74,
   "id": "4e54f0e5-8f89-4144-8a33-13db4fc8596d",
   "metadata": {},
   "outputs": [],
   "source": [
    "l6 = [23,40,1,5,3,8,49,132,4,4,841,51651,22,44,9933,5522]"
   ]
  },
  {
   "cell_type": "code",
   "execution_count": 77,
   "id": "30314a1e-794c-492e-85d9-1de087ef1a5e",
   "metadata": {},
   "outputs": [],
   "source": [
    "l6 = list(set(l6))"
   ]
  },
  {
   "cell_type": "code",
   "execution_count": 78,
   "id": "80b8162a-e15f-4dce-9473-b6e36229bdff",
   "metadata": {},
   "outputs": [
    {
     "data": {
      "text/plain": [
       "[1, 3, 132, 5, 4, 51651, 40, 8, 841, 44, 9933, 49, 5522, 22, 23]"
      ]
     },
     "execution_count": 78,
     "metadata": {},
     "output_type": "execute_result"
    }
   ],
   "source": [
    "l6"
   ]
  },
  {
   "cell_type": "code",
   "execution_count": 79,
   "id": "74267d6c-3d3d-41e2-9163-3125010f691a",
   "metadata": {},
   "outputs": [],
   "source": [
    "s5 = {234, 545,45,23,567,120,10,\"Sbdf\", 53443,54}"
   ]
  },
  {
   "cell_type": "code",
   "execution_count": 80,
   "id": "2319c99d-8034-4e2e-9cf0-57e06860b209",
   "metadata": {},
   "outputs": [
    {
     "data": {
      "text/plain": [
       "{10, 120, 23, 234, 45, 53443, 54, 545, 567, 'Sbdf'}"
      ]
     },
     "execution_count": 80,
     "metadata": {},
     "output_type": "execute_result"
    }
   ],
   "source": [
    "s5"
   ]
  },
  {
   "cell_type": "code",
   "execution_count": 83,
   "id": "59b17e21-2a27-4a4c-bc3a-34f2b79bab3b",
   "metadata": {},
   "outputs": [
    {
     "ename": "TypeError",
     "evalue": "'set' object is not subscriptable",
     "output_type": "error",
     "traceback": [
      "\u001b[0;31m---------------------------------------------------------------------------\u001b[0m",
      "\u001b[0;31mTypeError\u001b[0m                                 Traceback (most recent call last)",
      "Cell \u001b[0;32mIn[83], line 1\u001b[0m\n\u001b[0;32m----> 1\u001b[0m \u001b[43ms5\u001b[49m\u001b[43m[\u001b[49m\u001b[38;5;241;43m0\u001b[39;49m\u001b[43m]\u001b[49m\n",
      "\u001b[0;31mTypeError\u001b[0m: 'set' object is not subscriptable"
     ]
    }
   ],
   "source": [
    "s5[0]"
   ]
  },
  {
   "cell_type": "code",
   "execution_count": 85,
   "id": "1eaef066-d106-4c35-a7d3-f1f456594033",
   "metadata": {},
   "outputs": [
    {
     "data": {
      "text/plain": [
       "{10, 120, 20, 23, 234, 45, 53443, 54, 545, 567, 'Sbdf'}"
      ]
     },
     "execution_count": 85,
     "metadata": {},
     "output_type": "execute_result"
    }
   ],
   "source": [
    "s5.add(20)\n",
    "s5"
   ]
  },
  {
   "cell_type": "code",
   "execution_count": 93,
   "id": "110d8da6-f334-4431-9fbd-e4d8915f7014",
   "metadata": {},
   "outputs": [
    {
     "ename": "KeyError",
     "evalue": "10",
     "output_type": "error",
     "traceback": [
      "\u001b[0;31m---------------------------------------------------------------------------\u001b[0m",
      "\u001b[0;31mKeyError\u001b[0m                                  Traceback (most recent call last)",
      "Cell \u001b[0;32mIn[93], line 1\u001b[0m\n\u001b[0;32m----> 1\u001b[0m \u001b[43ms5\u001b[49m\u001b[38;5;241;43m.\u001b[39;49m\u001b[43mremove\u001b[49m\u001b[43m(\u001b[49m\u001b[38;5;241;43m10\u001b[39;49m\u001b[43m)\u001b[49m\n",
      "\u001b[0;31mKeyError\u001b[0m: 10"
     ]
    }
   ],
   "source": [
    "s5.remove(10)\n"
   ]
  },
  {
   "cell_type": "code",
   "execution_count": 94,
   "id": "f0fca80c-5a79-4f5c-b49f-82e5b929e83a",
   "metadata": {},
   "outputs": [
    {
     "data": {
      "text/plain": [
       "{120, 23, 234, 45, 53443, 54, 545, 567, 'Sbdf'}"
      ]
     },
     "execution_count": 94,
     "metadata": {},
     "output_type": "execute_result"
    }
   ],
   "source": [
    "s5"
   ]
  },
  {
   "cell_type": "code",
   "execution_count": null,
   "id": "4f9d9a4a-2df0-4f94-9e3c-980cc2a61513",
   "metadata": {},
   "outputs": [],
   "source": []
  }
 ],
 "metadata": {
  "kernelspec": {
   "display_name": "Python 3 (ipykernel)",
   "language": "python",
   "name": "python3"
  },
  "language_info": {
   "codemirror_mode": {
    "name": "ipython",
    "version": 3
   },
   "file_extension": ".py",
   "mimetype": "text/x-python",
   "name": "python",
   "nbconvert_exporter": "python",
   "pygments_lexer": "ipython3",
   "version": "3.10.8"
  }
 },
 "nbformat": 4,
 "nbformat_minor": 5
}
